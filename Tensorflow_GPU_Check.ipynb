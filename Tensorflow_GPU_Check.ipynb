{
 "cells": [
  {
   "cell_type": "code",
   "execution_count": 1,
   "id": "17fbe71f",
   "metadata": {},
   "outputs": [
    {
     "name": "stdout",
     "output_type": "stream",
     "text": [
      "TensorFlow Version: 2.10.0\n"
     ]
    },
    {
     "name": "stderr",
     "output_type": "stream",
     "text": [
      "C:\\Users\\trung\\AppData\\Local\\Temp\\ipykernel_7192\\617122359.py:6: DeprecationWarning: distutils Version classes are deprecated. Use packaging.version instead.\n",
      "  assert LooseVersion(tf.__version__) >= LooseVersion('1.0'), 'Please use Tensorflow'\n",
      "C:\\Users\\trung\\AppData\\Local\\Temp\\ipykernel_7192\\617122359.py:11: UserWarning: No GPU found. Please ensure you have installed TensorFlow corret\n",
      "  warnings.warn('No GPU found. Please ensure you have installed TensorFlow corret')\n"
     ]
    }
   ],
   "source": [
    "from distutils.version import LooseVersion\n",
    "import warnings\n",
    "import tensorflow as tf\n",
    "\n",
    "# Check TensorFlow Version\n",
    "assert LooseVersion(tf.__version__) >= LooseVersion('1.0'), 'Please use Tensorflow'\n",
    "print('TensorFlow Version: {}'.format(tf.__version__))\n",
    "# Check for a GPU\n",
    "if not tf.test.gpu_device_name():\n",
    "\n",
    "\twarnings.warn('No GPU found. Please ensure you have installed TensorFlow correct')\n",
    "else:\n",
    "\n",
    "\tprint('Default GPU Device: {}'.format(tf.test.gpu_device_name()))\n",
    "\f"
   ]
  }
 ],
 "metadata": {
  "kernelspec": {
   "display_name": "style_transfer",
   "language": "python",
   "name": "style_transfer"
  },
  "language_info": {
   "codemirror_mode": {
    "name": "ipython",
    "version": 3
   },
   "file_extension": ".py",
   "mimetype": "text/x-python",
   "name": "python",
   "nbconvert_exporter": "python",
   "pygments_lexer": "ipython3",
   "version": "3.9.16"
  }
 },
 "nbformat": 4,
 "nbformat_minor": 5
}
